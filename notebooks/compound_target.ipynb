{
 "cells": [
  {
   "cell_type": "markdown",
   "metadata": {},
   "source": [
    "# Compound Target\n",
    "\n",
    "This example demonstrates how to simulate the passage of a collinear beam of photons through a target that consists of several layers.\n",
    "The case study is a nuclear resonance fluorescence (NRF) experiment whose goal is to measure the width of the $2^+_1$ state of the isotope $^{116}$Sn relative to the known width of the $2^+_1$ state of $^{112}$Sn.\n",
    "\n",
    "The formalism in this notebook is based on the nice overview in C. Romig's thesis:\n",
    "\n",
    "C. Romig, Dissertation, Technische Universität Darmstadt, Darmstadt (2015) https://tuprints.ulb.tu-darmstadt.de/id/eprint/4446\n",
    "\n",
    "This text, in turn, is based on the diploma thesis of N. Pietralla (which is not available publicly in digital form, unfortunately):\n",
    "\n",
    "N. Pietralla, Diplomarbeit, Universität zu Köln, Köln (1993)\n",
    "\n",
    "## Target\n",
    "\n",
    "The target consists of 4 stacked layers that contain enriched metallic tin material at standard conditions.\n",
    "They will be numbered starting with the layer that is hit first by the beam. \n",
    "The first ($^{116}$Sn-1) and the third ($^{116}$Sn-2) layer have a high enrichment $x(^{116}\\mathrm{Sn})$ in the isotope $^{116}$Sn, while the second ($^{112}$Sn-1) and fourth ($^{112}$Sn-2) layer mainly consist of $^{112}$Sn.\n",
    "All targets are cylindrical with a radius of 0.5 cm.\n",
    "Using the target cross section area, the areal particle density (number of target nuclei per femtometer squared) is calculated below for compatibility with the cross sections, which are given in femtometers squared.\n",
    "\n",
    "In the code, $^{112}$Sn and $^{116}$Sn are represented by two `Isotope` objects that contain information about their masses, and their ground- and excited states.\n",
    "States are represented by `GroundState` and `State` objects.\n",
    "The module `ries.constituents.element` provides natural-element properties, particular isotope masses, and the code below shows how to access them.\n",
    "No compilation like this exists for the states of all isotopes, so the data entered below were looked up by hand in the Evaluated Nuclear Structure Data File (ENSDF, https://www.nndc.bnl.gov/ensdf/)."
   ]
  },
  {
   "cell_type": "code",
   "execution_count": null,
   "metadata": {},
   "outputs": [],
   "source": [
    "import numpy as np\n",
    "\n",
    "from scipy.constants import physical_constants\n",
    "\n",
    "from ries.constituents.isotope import Isotope\n",
    "from ries.constituents.state import GroundState, State\n",
    "from ries.constituents.element import natural_elements\n",
    "\n",
    "sn112 = Isotope('112Sn',\n",
    "        natural_elements['Sn'].isotopes['112Sn'].amu,\n",
    "        ground_state=GroundState('0^+_1', two_J=0, parity=1),\n",
    "        excited_states={\n",
    "            '2^+_1': State(\n",
    "                '2^+_1', two_J=4, parity=1, \n",
    "                excitation_energy=1.25669,\n",
    "                partial_widths={'0^+_1': physical_constants['reduced Planck constant in eV s'][0]/0.376e-12*1e-6} # Conversion from half life to width\n",
    "            )\n",
    "        }\n",
    "       )\n",
    "\n",
    "sn112_enrichment = 0.951\n",
    "# The following calculation for the number of nuclei in the target layer is an approximation. \n",
    "# More than 90% of the layer consist of 112Sn,\n",
    "# but one would actually have to divide by the abundance-weighted average mass of all tin isotopes \n",
    "# in the sample.\n",
    "sn112_1_areal_density = 2.40403e-3/(sn112.amu*physical_constants['atomic mass constant'][0])/(np.pi*0.005e15**2)\n",
    "sn112_2_areal_density = 2.39414e-3/(sn112.amu*physical_constants['atomic mass constant'][0])/(np.pi*0.005e15**2)\n",
    "\n",
    "\n",
    "sn116 = Isotope('116Sn',\n",
    "        natural_elements['Sn'].isotopes['116Sn'].amu,\n",
    "        ground_state=GroundState('0^+_1', two_J=0, parity=1),\n",
    "        excited_states={\n",
    "            '2^+_1': State(\n",
    "                '2^+_1', two_J=4, parity=1, \n",
    "                excitation_energy=1.293560,\n",
    "                partial_widths={'0^+_1': physical_constants['reduced Planck constant in eV s'][0]/0.374e-12*1e-6} # Conversion from half life to width\n",
    "            )\n",
    "        }\n",
    "       )\n",
    "\n",
    "sn116_enrichment = 0.978\n",
    "sn116_1_areal_density = 2.40668e-3/(sn116.amu*physical_constants['atomic mass constant'][0])/(np.pi*0.005e15**2)\n",
    "sn116_2_areal_density = 2.39617e-3/(sn116.amu*physical_constants['atomic mass constant'][0])/(np.pi*0.005e15**2)"
   ]
  },
  {
   "cell_type": "markdown",
   "metadata": {},
   "source": [
    "## Cross sections\n",
    "\n",
    "### Resonances\n",
    "\n",
    "The cross sections $\\sigma_{0^+_1 \\to 2^+_1} (E)$ for the excitation of the $2^+_1$ states of the Sn isotopes by photons are Breit-Wigner resonances, since both can be considered isolated resonances.\n",
    "At standard conditions, the resonances are considerably Doppler-broadened.\n",
    "Their energy dependence is given by a Voigt profile, which is the convolution of a Breit-Wigner resonance with a Maxwell-Boltzmann distribution of atom velocities.\n",
    "They are modeled by `Voigt` objects, which use some of the isotope properties defined above.\n",
    "\n",
    "A Maxwell-Boltzmann distribution can only be used for solid tin, if the temperature in the Maxwell-Boltzmann distribution is replaced by an effective temperature.\n",
    "To obtain this quantity, the Debye approximation is used here.\n",
    "The module `ries.resonance.debye_model` provides a dictionary of room-temperature material constants ('Debye temperatures') that are needed to calculate the effective temperature for a given room temperature.\n",
    "Note that the Debye temperatures in the dictionary are actually valid for elements with a natural composition of isotopes, so this is an approximation."
   ]
  },
  {
   "cell_type": "code",
   "execution_count": null,
   "metadata": {},
   "outputs": [],
   "source": [
    "from ries.resonance.voigt import Voigt\n",
    "from ries.resonance.debye_model import effective_temperature_debye_approximation, room_temperature_T_D\n",
    "\n",
    "room_temperature = 293.\n",
    "\n",
    "sigma_112 = Voigt(\n",
    "    initial_state=sn112.ground_state,\n",
    "    intermediate_state=sn112.excited_states['2^+_1'],\n",
    "    amu=sn112.amu,\n",
    "    effective_temperature=effective_temperature_debye_approximation(room_temperature, room_temperature_T_D['Sn']),\n",
    ")\n",
    "\n",
    "sigma_116 = Voigt(\n",
    "    initial_state=sn116.ground_state,\n",
    "    intermediate_state=sn116.excited_states['2^+_1'],\n",
    "    amu=sn116.amu,\n",
    "    effective_temperature=effective_temperature_debye_approximation(room_temperature, room_temperature_T_D['Sn']),\n",
    ")"
   ]
  },
  {
   "cell_type": "markdown",
   "metadata": {},
   "source": [
    "Plot the cross section for $^{116}$Sn. Note that both Sn isotopes have similar properties, so the plots for the other isotope would similar.\n",
    "\n",
    "The `Voigt` class provides a method `equidistant_probability_grid` that partitions the energy range into quantiles of equal size.\n",
    "Compared to an equidistant partition, this has the advantage that the grid is more dense around the peak and less dense at the tails where the shape does not change much.\n",
    "For a given number of points, this should increase the precision.\n",
    "A Voigt distribution is actually defined on the interval $]-\\infty, \\infty[$, but the energy grid is restricted to a finite symmetric coverage interval here."
   ]
  },
  {
   "cell_type": "code",
   "execution_count": null,
   "metadata": {},
   "outputs": [],
   "source": [
    "import matplotlib.pyplot as plt\n",
    "\n",
    "energy_plot = sigma_116.equidistant_probability_grid(0.999, 100) # 99.9% coverage, 200 points at which the cross section is evaluated for plotting.\n",
    "sigma_plot = sigma_116(energy_plot)\n",
    "\n",
    "fig, ax = plt.subplots(1,1)\n",
    "ax.set_xlabel('Energy (MeV)')\n",
    "ax.set_ylabel(r'$\\sigma_{0^+_1 \\to 2^+_1}$ ($^{116}$Sn) (fm$^2$)')\n",
    "ax.plot(energy_plot, sigma_plot, '--', color='crimson')\n",
    "ax.plot(energy_plot, sigma_plot, '.', color='black')"
   ]
  },
  {
   "cell_type": "markdown",
   "metadata": {},
   "source": [
    "### Nonresonant processes\n",
    "\n",
    "Photons will not only undergo resonant reactions in the target, but they can also be Compton-scattered, create an electron-positron pair, ...\n",
    "The energy dependence of these nonresonant processes can be described by the tabulated x-ray mass attenuation coefficients (XRMAC) $\\mu / \\rho$ of Hubbell and Seltzer.\n",
    "The module `ries.nonresonant.xrmac` provides a dictionary of all XRMACs in that database.\n",
    "While the XRMACs are tabulated as *cross sections per gram*, the ones in `ries.nonresonant.xrmac.xrmac_fm2_per_atom` have already been converted to *cross sections per nucleus* $\\sigma_\\mathrm{nr} (E)$, i.e. they are directly comparable to $\\sigma_{0^+_1 \\rightarrow 2^+_1}$.\n",
    "As with the Debye temperatures, the XRMACs for the two enriched targets are approximated by the one for natural tin."
   ]
  },
  {
   "cell_type": "code",
   "execution_count": null,
   "metadata": {},
   "outputs": [],
   "source": [
    "from ries.nonresonant.xrmac import xrmac_fm2_per_atom\n",
    "\n",
    "sigma_nr = xrmac_fm2_per_atom['Sn']"
   ]
  },
  {
   "cell_type": "code",
   "execution_count": null,
   "metadata": {},
   "outputs": [],
   "source": [
    "sigma_nr_plot = sigma_nr(energy_plot) # Plot on the same energy grid as the resonances.\n",
    "\n",
    "fig, ax = plt.subplots(1,1)\n",
    "ax.set_xlabel('Energy (MeV)')\n",
    "ax.set_ylabel(r'$\\sigma_\\mathrm{nr}$ (fm$^2$)')\n",
    "ax.plot(energy_plot, sigma_nr_plot, '--', color='crimson')\n",
    "ax.plot(energy_plot, sigma_nr_plot, '.', color='black')"
   ]
  },
  {
   "cell_type": "markdown",
   "metadata": {},
   "source": [
    "## Photon flux"
   ]
  },
  {
   "cell_type": "markdown",
   "metadata": {},
   "source": [
    "The dependence of the energy-differential photon flux $\\mathrm{d} \\Phi / \\mathrm{d} E$ (number of photons incident on the target per energy unit per time interval) on the penetration depth $z$ (defined in units of an areal density, i.e. a length unit times a volume density) into the target is given by the differential equation [1]:\n",
    "\n",
    "$\\frac{\\mathrm{d} \\Phi}{\\mathrm{d} E \\mathrm{d} z} (E, z) = -[\\sigma_\\mathrm{nr} (E) + x(^{A}\\mathrm{Sn}) \\sigma_{0^+_1 \\rightarrow 2^+_1} (E; ^{A}\\mathrm{Sn})] \\frac{\\mathrm{d} \\Phi}{\\mathrm{d} E} (E, z)$.\n",
    "\n",
    "Note that the NRF cross section needs to be multiplied by the abundance of the isotope, to be able to use the areal density from above (the areal density gives the number of nuclei of *any* isotope per unit area).\n",
    "Since the two excited states of $^{112}$Sn and $^{116}$Sn are sufficiently far apart, only a single resonance is considered here.\n",
    "In the following, the boundaries between the target layers will be denoted as $z_i$.\n",
    "The point on the $z$ axis where the beam hits the target first is $z_0$, the point where the target exits the target is $z_4$."
   ]
  },
  {
   "cell_type": "code",
   "execution_count": null,
   "metadata": {},
   "outputs": [],
   "source": [
    "z_0 = 0.\n",
    "z_1 = z_0 + sn116_1_areal_density\n",
    "z_2 = z_1 + sn112_1_areal_density\n",
    "z_3 = z_2 + sn116_2_areal_density\n",
    "z_4 = z_3 + sn112_2_areal_density"
   ]
  },
  {
   "cell_type": "markdown",
   "metadata": {},
   "source": [
    "The solution of the differential equation above inside a single target layer is an exponential decay:\n",
    "\n",
    "$\\frac{\\mathrm{d} \\Phi}{\\mathrm{d} E} (E, z) = \\frac{\\mathrm{d} \\Phi}{\\mathrm{d} E} (E, z_i) \\exp \\{ -[\\sigma_\\mathrm{nr} (E) + x(^{A}\\mathrm{Sn}) \\sigma_{0^+_1 \\rightarrow 2^+_1} (E; ^{A}\\mathrm{Sn})] (z_{i+1} - z_{i}) \\}$\n",
    "\n",
    "The exponential term in this expression is sometimes called the photon flux density.\n",
    "For a thin target, i.e. \n",
    "\n",
    "$\\frac{z_{i+1} - z_i}{\\sigma_\\mathrm{nr} (E) + x(^{A}\\mathrm{Sn}) \\sigma_{0^+_1 \\rightarrow 2^+_1} (E; ^{A}\\mathrm{Sn})} \\ll 1$,\n",
    "\n",
    "the variation of the photon flux with the penetration depth is negligible:\n",
    "\n",
    "$\\frac{\\mathrm{d} \\Phi}{\\mathrm{d} E} (E, z) \\approx \\frac{\\mathrm{d} \\Phi}{\\mathrm{d} E} (E, z_i)$\n",
    "\n",
    "The functional dependence of the photon flux is implemented as python code below."
   ]
  },
  {
   "cell_type": "code",
   "execution_count": null,
   "metadata": {},
   "outputs": [],
   "source": [
    "def dPhi_dE(E, z, sigma_nr, sigma_r, abundance=1., dPhi_dE_0=lambda E: 1.):\n",
    "    r\"\"\"Energy- and penetration-depth dependence of the energy-differential photon flux\n",
    "\n",
    "    It is assumed that the reduction of the photon flux is due to nonresonant scattering by the\n",
    "    entire target material and absorption by resonances of a single isotope, whose abundance can\n",
    "    be given as an argument.\n",
    "\n",
    "    Parameters:\n",
    "    \n",
    "    - `E`, float or array_like, energy in MeV.\n",
    "    - `z`, float or array_like, penetration depth (in units of an areal density) in fm^-2.\n",
    "    - `sigma_nr` and `sigma_r`, callable, energy-dependent nonresonant (nr) and resonant (r) cross sections.\n",
    "    - `abundance`, float, abundance of the isotope to which the resonances belong. Should be a number between 0 and 1.\n",
    "    - `dPhi_dE_0`, callable, energy-differential photon flux at the most upstream point of the target in arbitrary units.\n",
    "    \n",
    "    Returns:\n",
    "    \n",
    "    - float or array_like, energy-differential photon flux in the same units as `dPhi_dE_0`.\n",
    "    \"\"\"\n",
    "    return dPhi_dE_0(E)*np.exp(-(sigma_nr(E)+abundance*sigma_r(E))*z)"
   ]
  },
  {
   "cell_type": "markdown",
   "metadata": {},
   "source": [
    "Plot the energy-differential photon flux for different penetration depths into the target."
   ]
  },
  {
   "cell_type": "code",
   "execution_count": null,
   "metadata": {},
   "outputs": [],
   "source": [
    "dPhi_dE_plot = [dPhi_dE(energy_plot, z, sigma_nr, sigma_116, abundance=sn116_enrichment) for z in np.linspace(0., sn116_1_areal_density, 10)]\n",
    "\n",
    "fig, ax = plt.subplots(1,1)\n",
    "ax.set_xlabel('Energy (MeV)')\n",
    "ax.set_ylabel('$\\mathrm{d} \\Phi \\mathrm{d} E$ (arb. units)')\n",
    "for dP_dE in dPhi_dE_plot:\n",
    "    ax.plot(energy_plot, dP_dE)"
   ]
  },
  {
   "cell_type": "markdown",
   "metadata": {},
   "source": [
    "## Reaction rate"
   ]
  },
  {
   "cell_type": "markdown",
   "metadata": {},
   "source": [
    "The energy- and penetration-depth differential reaction rate $\\mathrm{d} N_\\mathrm{NRF} (^A\\mathrm{Sn}) / \\mathrm{d} E \\mathrm{d} z$ in a single target layer is given by the product of the cross section and the energy-differential photon flux:\n",
    "\n",
    "$\\frac{\\mathrm{d} N_\\mathrm{NRF} (^A\\mathrm{Sn})}{\\mathrm{d} E \\mathrm{d} z} = x(^{A}\\mathrm{Sn}) \\sigma_{0^+_1 \\rightarrow 2^+_1} (E; ^A\\mathrm{Sn}) \\frac{\\mathrm{d} \\Phi}{\\mathrm{d} E} (E, z)$\n",
    "\n",
    "This quantity is sometimes called the resonance absorption density and denoted as $\\alpha$.\n",
    "\n",
    "By integrating the expression above over the energy and the extent of the target layer, one obtains the reaction rate in this layer:\n",
    "\n",
    "$N_\\mathrm{NRF} (^A\\mathrm{Sn}) = x(^{A}\\mathrm{Sn}) \\int_{-\\infty}^{\\infty} \\int_{z_i}^{z_{i+1}} \\sigma_{0^+_1 \\rightarrow 2^+_1} (E; ^A\\mathrm{Sn}) \\frac{\\mathrm{d} \\Phi}{\\mathrm{d} E} (E, z) \\mathrm{d} z \\mathrm{d} E$\n",
    "\n",
    "For a thin target, the photon flux is constant inside the target, the the integral evaluates to:\n",
    "\n",
    "$N_\\mathrm{NRF} (^A\\mathrm{Sn}) \\approx x(^{A}\\mathrm{Sn}) \\frac{\\mathrm{d} \\Phi}{\\mathrm{d} E} (E, z_i) \\int_{-\\infty}^{\\infty} \\sigma_{0^+_1 \\rightarrow 2^+_1} (E; ^A\\mathrm{Sn}) \\mathrm{d} E = x(^{A}\\mathrm{Sn}) \\frac{\\mathrm{d} \\Phi}{\\mathrm{d} E} (E, z_i) (z_{i+1} - z_i) I_{0^+_1 \\rightarrow 2^+_1} (^A\\mathrm{Sn})$,\n",
    "\n",
    "i.e. the count rate is given by the product of the abundance, the incident photon flux, the areal density, and the energy-integrated cross section $I_{0^+_1 \\rightarrow 2^+_1} (^A\\mathrm{Sn})$.\n",
    "\n",
    "The functional dependence of the resonance absorption density is implemented as python code below."
   ]
  },
  {
   "cell_type": "code",
   "execution_count": null,
   "metadata": {},
   "outputs": [],
   "source": [
    "def dalpha_dE_dz(E, z, sigma_nr, sigma_r, abundance=1., dPhi_dE_0=lambda E: 1.):\n",
    "    r\"\"\"Energy- and penetration-depth differential resonance absorption density\n",
    "\n",
    "    See also dPhi_DE.\n",
    "\n",
    "    Parameters:\n",
    "    \n",
    "    - `E`, float or array_like, energy in MeV.\n",
    "    - `z`, float or array_like, penetration depth (in units of an areal density) in fm^-2.\n",
    "    - `sigma_nr` and `sigma_r`, callable, energy-dependent nonresonant (nr) and resonant (r) cross sections.\n",
    "    - `abundance`, float, abundance of the isotope to which the resonances belong. Should be a number between 0 and 1.\n",
    "    - `dPhi_dE_0`, callable, energy-differential photon flux at the most upstream point of the target in arbitrary units.\n",
    "    \n",
    "    Returns:\n",
    "    \n",
    "    - float or array_like, energy- and penetration-depth differential resonance absorption density in units of fm^2.\n",
    "    \"\"\"\n",
    "    return abundance*sigma_r(E)*dPhi_dE(E, z, sigma_nr, sigma_r, abundance, dPhi_dE_0)"
   ]
  },
  {
   "cell_type": "code",
   "execution_count": null,
   "metadata": {},
   "outputs": [],
   "source": [
    "alpha_plot = [dalpha_dE_dz(energy_plot, z, sigma_nr, sigma_116, sn116_enrichment) for z in np.linspace(0., sn116_1_areal_density, 10)]\n",
    "\n",
    "fig, ax = plt.subplots(1,1)\n",
    "for alpha in alpha_plot:\n",
    "    ax.plot(energy_plot, alpha)"
   ]
  }
 ],
 "metadata": {
  "kernelspec": {
   "display_name": "Python 3",
   "language": "python",
   "name": "python3"
  },
  "language_info": {
   "codemirror_mode": {
    "name": "ipython",
    "version": 3
   },
   "file_extension": ".py",
   "mimetype": "text/x-python",
   "name": "python",
   "nbconvert_exporter": "python",
   "pygments_lexer": "ipython3",
   "version": "3.6.9"
  }
 },
 "nbformat": 4,
 "nbformat_minor": 4
}
